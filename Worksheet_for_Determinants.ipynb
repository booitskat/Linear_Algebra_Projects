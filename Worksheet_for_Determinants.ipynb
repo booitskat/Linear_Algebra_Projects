{
  "nbformat": 4,
  "nbformat_minor": 0,
  "metadata": {
    "colab": {
      "name": "Worksheet for Determinants.ipynb",
      "provenance": [],
      "collapsed_sections": [],
      "authorship_tag": "ABX9TyPkjZKjWLwI8VgwleTvuc38",
      "include_colab_link": true
    },
    "kernelspec": {
      "name": "python3",
      "display_name": "Python 3"
    },
    "language_info": {
      "name": "python"
    }
  },
  "cells": [
    {
      "cell_type": "markdown",
      "metadata": {
        "id": "view-in-github",
        "colab_type": "text"
      },
      "source": [
        "<a href=\"https://colab.research.google.com/github/booitskat/Linear_Algebra_Projects/blob/main/Worksheet_for_Determinants.ipynb\" target=\"_parent\"><img src=\"https://colab.research.google.com/assets/colab-badge.svg\" alt=\"Open In Colab\"/></a>"
      ]
    },
    {
      "cell_type": "code",
      "metadata": {
        "id": "OHsqO-LjGuYk"
      },
      "source": [
        "#Import Stuffs"
      ],
      "execution_count": 2,
      "outputs": []
    },
    {
      "cell_type": "code",
      "metadata": {
        "id": "vd61SVYfG0rw"
      },
      "source": [
        "import matplotlib as plt\n",
        "from sympy import Poly\n",
        "import sympy as sym\n",
        "import numpy as np\n",
        "from numpy import c_\n",
        "\n",
        "#Specify that x and t are variables:\n",
        "x,t = sym.symbols('x, t')\n",
        "\n",
        "ll= 'loaded'"
      ],
      "execution_count": 3,
      "outputs": []
    },
    {
      "cell_type": "code",
      "metadata": {
        "id": "rJ_H4yVVHYsm"
      },
      "source": [
        "#create the matrix"
      ],
      "execution_count": null,
      "outputs": []
    },
    {
      "cell_type": "code",
      "metadata": {
        "id": "fRncTtrYHbAT"
      },
      "source": [
        "A = np.matrix([[3, 2, 3],\n",
        "               [-6, 1, -10],\n",
        "               [-8, -9, -9]])\n"
      ],
      "execution_count": 21,
      "outputs": []
    },
    {
      "cell_type": "code",
      "metadata": {
        "id": "Chp-51hUHz_q"
      },
      "source": [
        "B = np.matrix([[1, -2, 1],\n",
        "               [5, 5, 4],\n",
        "               [4, 0, 0]])"
      ],
      "execution_count": 22,
      "outputs": []
    },
    {
      "cell_type": "code",
      "metadata": {
        "id": "wRslY0wGIAuO"
      },
      "source": [
        "C = np.matrix([[1, 0, 0],\n",
        "               [0, 2, 0],\n",
        "               [-3, -2, 1]])"
      ],
      "execution_count": 23,
      "outputs": []
    },
    {
      "cell_type": "code",
      "metadata": {
        "colab": {
          "base_uri": "https://localhost:8080/"
        },
        "id": "_QG4yZHyIQp8",
        "outputId": "678ef01d-9126-4318-a883-8d2411a12dd5"
      },
      "source": [
        "C*A\n",
        "\n",
        "np.linalg.det(C*A)"
      ],
      "execution_count": 36,
      "outputs": [
        {
          "output_type": "execute_result",
          "data": {
            "text/plain": [
              "-118.00000000000004"
            ]
          },
          "metadata": {
            "tags": []
          },
          "execution_count": 36
        }
      ]
    }
  ]
}